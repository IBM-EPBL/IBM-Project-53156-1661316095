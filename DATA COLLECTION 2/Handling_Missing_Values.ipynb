{
  "cells": [
    {
      "cell_type": "markdown",
      "id": "aad3289e",
      "metadata": {
        "id": "aad3289e"
      },
      "source": [
        "# Handling Missing Values"
      ]
    },
    {
      "cell_type": "code",
      "execution_count": 2,
      "id": "9f4c1ebf",
      "metadata": {
        "id": "9f4c1ebf"
      },
      "outputs": [],
      "source": [
        "import pandas as pd\n",
        "import matplotlib.pyplot as plt\n",
        "import numpy as np\n",
        "import seaborn as sns"
      ]
    },
    {
      "cell_type": "code",
      "execution_count": 3,
      "id": "348a034a",
      "metadata": {
        "id": "348a034a"
      },
      "outputs": [],
      "source": [
        "file=pd.read_csv(\"/content/Admission_Predict.csv\")\n",
        "data=pd.DataFrame(file)"
      ]
    },
    {
      "cell_type": "code",
      "execution_count": 4,
      "id": "f904333b",
      "metadata": {
        "colab": {
          "base_uri": "https://localhost:8080/"
        },
        "id": "f904333b",
        "outputId": "4b6bc670-cdeb-422d-f06a-76acd3363792"
      },
      "outputs": [
        {
          "output_type": "execute_result",
          "data": {
            "text/plain": [
              "Serial No.           0\n",
              "GRE Score            0\n",
              "TOEFL Score          0\n",
              "University Rating    0\n",
              "SOP                  0\n",
              "LOR                  0\n",
              "CGPA                 0\n",
              "Research             0\n",
              "Chance of Admit      0\n",
              "dtype: int64"
            ]
          },
          "metadata": {},
          "execution_count": 4
        }
      ],
      "source": [
        "data.isna().sum()"
      ]
    },
    {
      "cell_type": "code",
      "execution_count": null,
      "id": "c52c7e31",
      "metadata": {
        "id": "c52c7e31"
      },
      "outputs": [],
      "source": []
    }
  ],
  "metadata": {
    "kernelspec": {
      "display_name": "Python 3 (ipykernel)",
      "language": "python",
      "name": "python3"
    },
    "language_info": {
      "codemirror_mode": {
        "name": "ipython",
        "version": 3
      },
      "file_extension": ".py",
      "mimetype": "text/x-python",
      "name": "python",
      "nbconvert_exporter": "python",
      "pygments_lexer": "ipython3",
      "version": "3.9.12"
    },
    "colab": {
      "provenance": [],
      "collapsed_sections": []
    }
  },
  "nbformat": 4,
  "nbformat_minor": 5
}
